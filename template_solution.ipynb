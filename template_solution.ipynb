{
  "cells": [
    {
      "cell_type": "markdown",
      "metadata": {
        "id": "view-in-github",
        "colab_type": "text"
      },
      "source": [
        "<a href=\"https://colab.research.google.com/github/dawnworlds/2024spring/blob/main/template_solution.ipynb\" target=\"_parent\"><img src=\"https://colab.research.google.com/assets/colab-badge.svg\" alt=\"Open In Colab\"/></a>"
      ]
    },
    {
      "cell_type": "code",
      "execution_count": null,
      "metadata": {
        "id": "YF8_eXXWEoJ5"
      },
      "outputs": [],
      "source": [
        "import pandas as pd\n",
        "import numpy as np\n",
        "from sklearn.model_selection import KFold\n",
        "\n",
        "# Add any additional imports here (however, the task is solvable without using\n",
        "# any additional imports)\n",
        "# import ..."
      ]
    },
    {
      "cell_type": "markdown",
      "metadata": {
        "id": "N-Y-YMOLEoJ6"
      },
      "source": [
        " #### Loading data"
      ]
    },
    {
      "cell_type": "code",
      "execution_count": null,
      "metadata": {
        "colab": {
          "base_uri": "https://localhost:8080/"
        },
        "id": "v9j3-WriEoJ6",
        "outputId": "7a732072-ce74-42ca-f7ba-736cb42d1015"
      },
      "outputs": [
        {
          "output_type": "stream",
          "name": "stdout",
          "text": [
            "         x1   x2     x3   x4     x5     x6     x7      x8    x9    x10   x11  \\\n",
            "0   0.06724  0.0   3.24  0.0  0.460  6.333   17.2  5.2146   4.0  430.0  16.9   \n",
            "1   9.23230  0.0  18.10  0.0  0.631  6.216  100.0  1.1691  24.0  666.0  20.2   \n",
            "2   0.11425  0.0  13.89  1.0  0.550  6.373   92.4  3.3633   5.0  276.0  16.4   \n",
            "3  24.80170  0.0  18.10  0.0  0.693  5.349   96.0  1.7028  24.0  666.0  20.2   \n",
            "4   0.05646  0.0  12.83  0.0  0.437  6.232   53.7  5.0141   5.0  398.0  18.7   \n",
            "\n",
            "      x12    x13  \n",
            "0  375.21   7.34  \n",
            "1  366.15   9.53  \n",
            "2  393.74  10.50  \n",
            "3  396.90  19.77  \n",
            "4  386.40  12.34  \n"
          ]
        }
      ],
      "source": [
        "data = pd.read_csv(\"train.csv\")\n",
        "y = data[\"y\"].to_numpy()\n",
        "data = data.drop(columns=\"y\")\n",
        "# print a few data samples\n",
        "print(data.head())"
      ]
    },
    {
      "cell_type": "markdown",
      "metadata": {
        "id": "yjv0k7I1EoJ6"
      },
      "source": [
        "#### Calculating the average RMSE"
      ]
    },
    {
      "cell_type": "code",
      "execution_count": null,
      "metadata": {
        "id": "fSFPXYHvEoJ6"
      },
      "outputs": [],
      "source": [
        "def calculate_RMSE(w, X, y):\n",
        "    \"\"\"This function takes test data points (X and y), and computes the empirical RMSE of\n",
        "    predicting y from X using a linear model with weights w.\n",
        "\n",
        "    Parameters\n",
        "    ----------\n",
        "    w: array of floats: dim = (13,), optimal parameters of ridge regression\n",
        "    X: matrix of floats, dim = (15,13), inputs with 13 features\n",
        "    y: array of floats, dim = (15,), input labels\n",
        "\n",
        "    Returns\n",
        "    ----------\n",
        "    RMSE: float: dim = 1, RMSE value\n",
        "    \"\"\"\n",
        "    RMSE = 0\n",
        "    y_pred = X.dot(w)\n",
        "\n",
        "    RMSE = np.sqrt(((y - y_pred) ** 2).mean())\n",
        "\n",
        "    assert np.isscalar(RMSE)\n",
        "\n",
        "    return RMSE"
      ]
    },
    {
      "cell_type": "markdown",
      "metadata": {
        "id": "IvWfE3NqEoJ7"
      },
      "source": [
        "#### Fitting the regressor"
      ]
    },
    {
      "cell_type": "code",
      "execution_count": null,
      "metadata": {
        "id": "fhHc0r6hEoJ7"
      },
      "outputs": [],
      "source": [
        "def fit(X, y, lam):\n",
        "    \"\"\"\n",
        "    This function receives training data points, then fits the ridge regression on this data\n",
        "    with regularization hyperparameter lambda. The weights w of the fitted ridge regression\n",
        "    are returned.\n",
        "\n",
        "    Parameters\n",
        "    ----------\n",
        "    X: matrix of floats, dim = (135,13), inputs with 13 features\n",
        "    y: array of floats, dim = (135,), input labels)\n",
        "    lam: float. lambda parameter, used in regularization term\n",
        "\n",
        "    Returns\n",
        "    ----------\n",
        "    w: array of floats: dim = (13,), optimal parameters of ridge regression\n",
        "    \"\"\"\n",
        "    w = np.zeros((13,))\n",
        "     # TODO: Enter your code here\n",
        "\n",
        "    n_features = X.shape[1]\n",
        "\n",
        "    I = np.eye(n_features)\n",
        "\n",
        "    covariance_matrix = np.dot(X.T, X) + lam * I\n",
        "\n",
        "    inverse_covariance_matrix = np.linalg.inv(covariance_matrix)\n",
        "\n",
        "    w = np.dot(inverse_covariance_matrix, np.dot(X.T, y))\n",
        "\n",
        "\n",
        "\n",
        "\n",
        "    assert w.shape == (13,)\n",
        "    return w"
      ]
    },
    {
      "cell_type": "markdown",
      "metadata": {
        "id": "KI6RNgkGEoJ8"
      },
      "source": [
        "#### Performing computation"
      ]
    },
    {
      "cell_type": "code",
      "execution_count": null,
      "metadata": {
        "id": "KllQDfwlEoJ8",
        "colab": {
          "base_uri": "https://localhost:8080/"
        },
        "outputId": "a7e842c7-0eed-453a-fcf9-2074807a8146"
      },
      "outputs": [
        {
          "output_type": "stream",
          "name": "stdout",
          "text": [
            "[5.38380157 5.36264675 5.36223749 5.88532073 6.20091603]\n"
          ]
        }
      ],
      "source": [
        "\"\"\"\n",
        "Main cross-validation loop, implementing 10-fold CV. In every iteration\n",
        "(for every train-test split), the RMSE for every lambda is calculated,\n",
        "and then averaged over iterations.\n",
        "\n",
        "Parameters\n",
        "----------\n",
        "X: matrix of floats, dim = (150, 13), inputs with 13 features\n",
        "y: array of floats, dim = (150, ), input labels\n",
        "lambdas: list of floats, len = 5, values of lambda for which ridge regression is fitted and RMSE estimated\n",
        "n_folds: int, number of folds (pieces in which we split the dataset), parameter K in KFold CV\n",
        "\n",
        "Compute\n",
        "----------\n",
        "avg_RMSE: array of floats: dim = (5,), average RMSE value for every lambda\n",
        "\"\"\"\n",
        "X = data.to_numpy()\n",
        "# The function calculating the average RMSE\n",
        "lambdas = [0.1, 1, 10, 100, 200]\n",
        "n_folds = 10\n",
        "\n",
        "kf = KFold(n_splits=n_folds, shuffle=True, random_state=42)\n",
        "RMSE_mat = np.zeros((n_folds, len(lambdas)))\n",
        "\n",
        "\n",
        "for fold_idx, (train_idx, test_idx) in enumerate(kf.split(X)):\n",
        "    # Split the data into training and testing sets for the current fold\n",
        "    X_train, X_test = X[train_idx], X[test_idx]\n",
        "    y_train, y_test = y[train_idx], y[test_idx]\n",
        "\n",
        "    # Loop over the lambda values\n",
        "    for lambda_idx, lam in enumerate(lambdas):\n",
        "        # Fit the ridge regression model on the training set\n",
        "        w = fit(X_train, y_train, lam)\n",
        "\n",
        "        # Calculate RMSE on the testing set\n",
        "        RMSE_mat[fold_idx, lambda_idx] = calculate_RMSE(w, X_test, y_test)\n",
        "\n",
        "# Calculate the average RMSE for each lambda across all folds\n",
        "avg_RMSE = RMSE_mat.mean(axis=0)\n",
        "\n",
        "# Ensure that avg_RMSE has the correct shape\n",
        "assert avg_RMSE.shape == (len(lambdas),), \"avg_RMSE should have the same length as the number of lambdas.\"\n",
        "\n",
        "# Print the average RMSE for each lambda\n",
        "print(avg_RMSE)"
      ]
    },
    {
      "cell_type": "code",
      "execution_count": null,
      "metadata": {
        "id": "jAnIZEYVEoJ8"
      },
      "outputs": [],
      "source": [
        "# Save results in the required format\n",
        "np.savetxt(\"./results.csv\", avg_RMSE, fmt=\"%.12f\")"
      ]
    },
    {
      "cell_type": "code",
      "source": [
        "from sklearn.model_selection import KFold\n",
        "import numpy as np\n",
        "\n",
        "# Define the fit function according to the ridge regression closed-form solution\n",
        "def fit(X, y, lam):\n",
        "    # Add a column of ones for the bias term\n",
        "    X_with_bias = np.hstack([np.ones((X.shape[0], 1)), X])\n",
        "\n",
        "    # Create the identity matrix with the appropriate shape\n",
        "    I = np.eye(X_with_bias.shape[1])\n",
        "    I[0, 0] = 0  # Exclude the bias term from regularization\n",
        "\n",
        "    # Compute the ridge regression weights\n",
        "    w = np.linalg.inv(X_with_bias.T @ X_with_bias + lam * I) @ X_with_bias.T @ y\n",
        "\n",
        "    return w\n",
        "\n",
        "# Define the calculate_RMSE function\n",
        "def calculate_RMSE(w, X, y):\n",
        "    # Add a column of ones for the bias term to the feature matrix\n",
        "    X_with_bias = np.hstack([np.ones((X.shape[0], 1)), X])\n",
        "\n",
        "    # Predict the target values using the weight vector\n",
        "    y_pred = X_with_bias @ w\n",
        "\n",
        "    # Compute the RMSE\n",
        "    rmse = np.sqrt(np.mean((y - y_pred) ** 2))\n",
        "    return rmse\n",
        "\n",
        "# Function to perform 10-fold cross-validation and calculate average RMSE\n",
        "def cross_validate_ridge_regression(X, y, lambdas, n_folds):\n",
        "    kf = KFold(n_splits=n_folds, shuffle=True, random_state=42)\n",
        "\n",
        "    # Prepare an array to store the RMSE values for each lambda\n",
        "    RMSE_scores = np.zeros((n_folds, len(lambdas)))\n",
        "\n",
        "    # Iterate over the folds\n",
        "    for fold_idx, (train_index, test_index) in enumerate(kf.split(X)):\n",
        "        # Split the data into training and testing sets for this fold\n",
        "        X_train, X_test = X[train_index], X[test_index]\n",
        "        y_train, y_test = y[train_index], y[test_index]\n",
        "\n",
        "        # Iterate over the values of lambda\n",
        "        for i, lam in enumerate(lambdas):\n",
        "            # Fit the model on the training set\n",
        "            w = fit(X_train, y_train, lam)\n",
        "            # Evaluate the model on the testing set\n",
        "            RMSE_scores[fold_idx, i] = calculate_RMSE(w, X_test, y_test)\n",
        "\n",
        "    # Calculate the average RMSE across all folds for each lambda\n",
        "    avg_RMSE = RMSE_scores.mean(axis=0)\n",
        "    return avg_RMSE\n",
        "\n",
        "# Load your data into X and y before calling this function\n",
        "data = pd.read_csv(\"train.csv\")\n",
        "y = data[\"y\"].to_numpy()\n",
        "data = data.drop(columns=\"y\")\n",
        "# print a few data samples\n",
        "print(data.head())\n",
        "X = data.to_numpy()\n",
        "\n",
        "\n",
        "# Specify the lambdas and number of folds\n",
        "lambdas = [0.1, 1, 10, 100, 200]\n",
        "n_folds = 10\n",
        "\n",
        "# Perform 10-fold cross-validation and compute average RMSE\n",
        "avg_RMSE = cross_validate_ridge_regression(X, y, lambdas, n_folds)\n",
        "\n",
        "# Print or save the average RMSE values\n",
        "print(\"Average RMSE for each lambda:\", avg_RMSE)\n",
        "# np.savetxt(\"avg_RMSE.csv\", avg_RMSE, delimiter=\",\", fmt=\"%.12f\")  # Save to CSV file\n"
      ],
      "metadata": {
        "colab": {
          "base_uri": "https://localhost:8080/"
        },
        "id": "cl6sbIt-PKlv",
        "outputId": "5844947b-70dd-4cda-9e1a-63ad63802b76"
      },
      "execution_count": null,
      "outputs": [
        {
          "output_type": "stream",
          "name": "stdout",
          "text": [
            "         x1   x2     x3   x4     x5     x6     x7      x8    x9    x10   x11  \\\n",
            "0   0.06724  0.0   3.24  0.0  0.460  6.333   17.2  5.2146   4.0  430.0  16.9   \n",
            "1   9.23230  0.0  18.10  0.0  0.631  6.216  100.0  1.1691  24.0  666.0  20.2   \n",
            "2   0.11425  0.0  13.89  1.0  0.550  6.373   92.4  3.3633   5.0  276.0  16.4   \n",
            "3  24.80170  0.0  18.10  0.0  0.693  5.349   96.0  1.7028  24.0  666.0  20.2   \n",
            "4   0.05646  0.0  12.83  0.0  0.437  6.232   53.7  5.0141   5.0  398.0  18.7   \n",
            "\n",
            "      x12    x13  \n",
            "0  375.21   7.34  \n",
            "1  366.15   9.53  \n",
            "2  393.74  10.50  \n",
            "3  396.90  19.77  \n",
            "4  386.40  12.34  \n",
            "Average RMSE for each lambda: [5.36917927 5.37542771 5.36458218 5.52153872 5.61106793]\n"
          ]
        }
      ]
    },
    {
      "cell_type": "code",
      "source": [
        "from sklearn.datasets import make_regression\n",
        "from sklearn.model_selection import KFold\n",
        "from sklearn.linear_model import Ridge\n",
        "from sklearn.metrics import mean_squared_error\n",
        "import numpy as np\n",
        "\n",
        "data = pd.read_csv(\"train.csv\")\n",
        "y = data[\"y\"].to_numpy()\n",
        "data = data.drop(columns=\"y\")\n",
        "# print a few data samples\n",
        "print(data.head())\n",
        "X = data.to_numpy()\n",
        "\n",
        "# Regularization parameters\n",
        "lambdas = [0.1, 1, 10, 100, 200]\n",
        "\n",
        "# Prepare 10-fold cross-validation\n",
        "kf = KFold(n_splits=10)\n",
        "\n",
        "# Dictionary to store the RMSE for each lambda\n",
        "rmse_results = {l: [] for l in lambdas}\n",
        "\n",
        "# Perform 10-fold cross-validation for each lambda\n",
        "for l in lambdas:\n",
        "    for train_index, test_index in kf.split(X):\n",
        "        X_train, X_test = X[train_index], X[test_index]\n",
        "        y_train, y_test = y[train_index], y[test_index]\n",
        "\n",
        "        # Ridge regression model\n",
        "        model = Ridge(alpha=l)\n",
        "        model.fit(X_train, y_train)\n",
        "        y_pred = model.predict(X_test)\n",
        "\n",
        "        # Calculate RMSE and store it\n",
        "        rmse = np.sqrt(mean_squared_error(y_test, y_pred))\n",
        "        rmse_results[l].append(rmse)\n",
        "\n",
        "# Calculate the average RMSE for each lambda\n",
        "average_rmse = {l: np.mean(rmses) for l, rmses in rmse_results.items()}\n",
        "average_rmse\n",
        "\n",
        "print(\"Average RMSE for each lambda:\", average_rmse)\n",
        "\n",
        "np.savetxt(\"./results.csv\", avg_RMSE, fmt=\"%.12f\")\n"
      ],
      "metadata": {
        "colab": {
          "base_uri": "https://localhost:8080/"
        },
        "id": "FRz06Q7qRWKm",
        "outputId": "05c620f9-bdab-45dc-b3cc-75ebd193b1cc"
      },
      "execution_count": null,
      "outputs": [
        {
          "output_type": "stream",
          "name": "stdout",
          "text": [
            "         x1   x2     x3   x4     x5     x6     x7      x8    x9    x10   x11  \\\n",
            "0   0.06724  0.0   3.24  0.0  0.460  6.333   17.2  5.2146   4.0  430.0  16.9   \n",
            "1   9.23230  0.0  18.10  0.0  0.631  6.216  100.0  1.1691  24.0  666.0  20.2   \n",
            "2   0.11425  0.0  13.89  1.0  0.550  6.373   92.4  3.3633   5.0  276.0  16.4   \n",
            "3  24.80170  0.0  18.10  0.0  0.693  5.349   96.0  1.7028  24.0  666.0  20.2   \n",
            "4   0.05646  0.0  12.83  0.0  0.437  6.232   53.7  5.0141   5.0  398.0  18.7   \n",
            "\n",
            "      x12    x13  \n",
            "0  375.21   7.34  \n",
            "1  366.15   9.53  \n",
            "2  393.74  10.50  \n",
            "3  396.90  19.77  \n",
            "4  386.40  12.34  \n",
            "Average RMSE for each lambda: {0.1: 5.501809445057858, 1: 5.499838741278099, 10: 5.483631486072288, 100: 5.636642135414034, 200: 5.721233719861128}\n"
          ]
        }
      ]
    },
    {
      "cell_type": "code",
      "source": [],
      "metadata": {
        "id": "lODRYifDT-HZ"
      },
      "execution_count": null,
      "outputs": []
    }
  ],
  "metadata": {
    "kernelspec": {
      "display_name": ".venv",
      "language": "python",
      "name": "python3"
    },
    "language_info": {
      "codemirror_mode": {
        "name": "ipython",
        "version": 3
      },
      "file_extension": ".py",
      "mimetype": "text/x-python",
      "name": "python",
      "nbconvert_exporter": "python",
      "pygments_lexer": "ipython3",
      "version": "3.10.12"
    },
    "colab": {
      "provenance": [],
      "include_colab_link": true
    }
  },
  "nbformat": 4,
  "nbformat_minor": 0
}